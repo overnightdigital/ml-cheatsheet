{
 "cells": [
  {
   "cell_type": "code",
   "execution_count": 1,
   "id": "c28fd22b",
   "metadata": {},
   "outputs": [],
   "source": [
    "# Concept\n",
    "### split data\n",
    "# data = ...\n",
    "# train, test = split(data)\n",
    "\n",
    "### tune model hyperparameters\n",
    "# parameters = ...\n",
    "# k = ...\n",
    "# for params in parameters:\n",
    "# \tskills = list()\n",
    "#\tfor i in k:\n",
    "#\t\tfold_train, fold_val = cv_split(i, k, train)\n",
    "#\t\tmodel = fit(fold_train, params)\n",
    "#\t\tskill_estimate = evaluate(model, fold_val)\n",
    "#\t\tskills.append(skill_estimate)\n",
    "#\tskill = summarize(skills)\n",
    "\n",
    "### evaluate final model for comparison with other models\n",
    "# model = fit(train)\n",
    "# skill = evaluate(model, test)"
   ]
  },
  {
   "cell_type": "code",
   "execution_count": null,
   "id": "22cbdcd4",
   "metadata": {},
   "outputs": [],
   "source": [
    "# Underfitting – Validation and training error high\n",
    "# Overfitting – Validation error is high, training error low\n",
    "# Good fit – Validation error low, slightly higher than the training error\n",
    "# Unknown fit - Validation error low, training error 'high'"
   ]
  }
 ],
 "metadata": {
  "kernelspec": {
   "display_name": "Python 3 (ipykernel)",
   "language": "python",
   "name": "python3"
  },
  "language_info": {
   "codemirror_mode": {
    "name": "ipython",
    "version": 3
   },
   "file_extension": ".py",
   "mimetype": "text/x-python",
   "name": "python",
   "nbconvert_exporter": "python",
   "pygments_lexer": "ipython3",
   "version": "3.9.7"
  }
 },
 "nbformat": 4,
 "nbformat_minor": 5
}
